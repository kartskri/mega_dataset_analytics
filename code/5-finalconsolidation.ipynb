{
 "cells": [
  {
   "cell_type": "code",
   "execution_count": 1,
   "metadata": {},
   "outputs": [],
   "source": [
    "import numpy as np\n",
    "import pandas as pd\n",
    "import dask.dataframe as dd\n",
    "from scipy import stats\n",
    "from matplotlib.pyplot import figure\n",
    "from sklearn.metrics.pairwise import cosine_similarity\n",
    "from scipy.sparse import csr_matrix\n",
    "import warnings\n",
    "import random\n",
    "\n",
    "\n",
    "warnings.filterwarnings(\"ignore\")\n",
    "%matplotlib inline  "
   ]
  },
  {
   "cell_type": "code",
   "execution_count": 2,
   "metadata": {},
   "outputs": [],
   "source": [
    "path = \"../files/\"\n",
    "#sample_customer_id1 = '00000dbacae5abe5e23885899a1fa44253a17956c6d1c3d25f88aa139fdfc657'"
   ]
  },
  {
   "cell_type": "code",
   "execution_count": 3,
   "metadata": {},
   "outputs": [
    {
     "data": {
      "text/html": [
       "<div>\n",
       "<style scoped>\n",
       "    .dataframe tbody tr th:only-of-type {\n",
       "        vertical-align: middle;\n",
       "    }\n",
       "\n",
       "    .dataframe tbody tr th {\n",
       "        vertical-align: top;\n",
       "    }\n",
       "\n",
       "    .dataframe thead th {\n",
       "        text-align: right;\n",
       "    }\n",
       "</style>\n",
       "<table border=\"1\" class=\"dataframe\">\n",
       "  <thead>\n",
       "    <tr style=\"text-align: right;\">\n",
       "      <th></th>\n",
       "      <th>customer_id</th>\n",
       "    </tr>\n",
       "  </thead>\n",
       "  <tbody>\n",
       "    <tr>\n",
       "      <th>0</th>\n",
       "      <td>00000dbacae5abe5e23885899a1fa44253a17956c6d1c3...</td>\n",
       "    </tr>\n",
       "    <tr>\n",
       "      <th>1</th>\n",
       "      <td>0000423b00ade91418cceaf3b26c6af3dd342b51fd051e...</td>\n",
       "    </tr>\n",
       "    <tr>\n",
       "      <th>2</th>\n",
       "      <td>000058a12d5b43e67d225668fa1f8d618c13dc232df0ca...</td>\n",
       "    </tr>\n",
       "    <tr>\n",
       "      <th>3</th>\n",
       "      <td>00005ca1c9ed5f5146b52ac8639a40ca9d57aeff4d1bd2...</td>\n",
       "    </tr>\n",
       "    <tr>\n",
       "      <th>4</th>\n",
       "      <td>00006413d8573cd20ed7128e53b7b13819fe5cfc2d801f...</td>\n",
       "    </tr>\n",
       "    <tr>\n",
       "      <th>...</th>\n",
       "      <td>...</td>\n",
       "    </tr>\n",
       "    <tr>\n",
       "      <th>1371975</th>\n",
       "      <td>ffffbbf78b6eaac697a8a5dfbfd2bfa8113ee5b403e474...</td>\n",
       "    </tr>\n",
       "    <tr>\n",
       "      <th>1371976</th>\n",
       "      <td>ffffcd5046a6143d29a04fb8c424ce494a76e5cdf4fab5...</td>\n",
       "    </tr>\n",
       "    <tr>\n",
       "      <th>1371977</th>\n",
       "      <td>ffffcf35913a0bee60e8741cb2b4e78b8a98ee5ff2e6a1...</td>\n",
       "    </tr>\n",
       "    <tr>\n",
       "      <th>1371978</th>\n",
       "      <td>ffffd7744cebcf3aca44ae7049d2a94b87074c3d4ffe38...</td>\n",
       "    </tr>\n",
       "    <tr>\n",
       "      <th>1371979</th>\n",
       "      <td>ffffd9ac14e89946416d80e791d064701994755c3ab686...</td>\n",
       "    </tr>\n",
       "  </tbody>\n",
       "</table>\n",
       "<p>1371980 rows × 1 columns</p>\n",
       "</div>"
      ],
      "text/plain": [
       "                                               customer_id\n",
       "0        00000dbacae5abe5e23885899a1fa44253a17956c6d1c3...\n",
       "1        0000423b00ade91418cceaf3b26c6af3dd342b51fd051e...\n",
       "2        000058a12d5b43e67d225668fa1f8d618c13dc232df0ca...\n",
       "3        00005ca1c9ed5f5146b52ac8639a40ca9d57aeff4d1bd2...\n",
       "4        00006413d8573cd20ed7128e53b7b13819fe5cfc2d801f...\n",
       "...                                                    ...\n",
       "1371975  ffffbbf78b6eaac697a8a5dfbfd2bfa8113ee5b403e474...\n",
       "1371976  ffffcd5046a6143d29a04fb8c424ce494a76e5cdf4fab5...\n",
       "1371977  ffffcf35913a0bee60e8741cb2b4e78b8a98ee5ff2e6a1...\n",
       "1371978  ffffd7744cebcf3aca44ae7049d2a94b87074c3d4ffe38...\n",
       "1371979  ffffd9ac14e89946416d80e791d064701994755c3ab686...\n",
       "\n",
       "[1371980 rows x 1 columns]"
      ]
     },
     "execution_count": 3,
     "metadata": {},
     "output_type": "execute_result"
    }
   ],
   "source": [
    "customer_df = pd.read_csv(path+\"customers.csv\", usecols=['customer_id'])\n",
    "customer_df"
   ]
  },
  {
   "cell_type": "code",
   "execution_count": 4,
   "metadata": {},
   "outputs": [
    {
     "data": {
      "text/html": [
       "<div>\n",
       "<style scoped>\n",
       "    .dataframe tbody tr th:only-of-type {\n",
       "        vertical-align: middle;\n",
       "    }\n",
       "\n",
       "    .dataframe tbody tr th {\n",
       "        vertical-align: top;\n",
       "    }\n",
       "\n",
       "    .dataframe thead th {\n",
       "        text-align: right;\n",
       "    }\n",
       "</style>\n",
       "<table border=\"1\" class=\"dataframe\">\n",
       "  <thead>\n",
       "    <tr style=\"text-align: right;\">\n",
       "      <th></th>\n",
       "      <th>customer_id</th>\n",
       "      <th>article_id</th>\n",
       "      <th>count</th>\n",
       "    </tr>\n",
       "  </thead>\n",
       "  <tbody>\n",
       "    <tr>\n",
       "      <th>0</th>\n",
       "      <td>00000dbacae5abe5e23885899a1fa44253a17956c6d1c3...</td>\n",
       "      <td>176209023</td>\n",
       "      <td>1</td>\n",
       "    </tr>\n",
       "    <tr>\n",
       "      <th>1</th>\n",
       "      <td>aa5c4c4d942c9f90f86dfe2a164c92f7a4d244a56af1c2...</td>\n",
       "      <td>789303001</td>\n",
       "      <td>1</td>\n",
       "    </tr>\n",
       "  </tbody>\n",
       "</table>\n",
       "</div>"
      ],
      "text/plain": [
       "                                         customer_id  article_id  count\n",
       "0  00000dbacae5abe5e23885899a1fa44253a17956c6d1c3...   176209023      1\n",
       "1  aa5c4c4d942c9f90f86dfe2a164c92f7a4d244a56af1c2...   789303001      1"
      ]
     },
     "execution_count": 4,
     "metadata": {},
     "output_type": "execute_result"
    }
   ],
   "source": [
    "# Read Merged CSV\n",
    "customer_product_df = pd.read_csv(path + \"customer_product_purchase.csv\", usecols=['customer_id', 'article_id', 'count'])\n",
    "customer_product_df.head(2)"
   ]
  },
  {
   "cell_type": "code",
   "execution_count": null,
   "metadata": {},
   "outputs": [],
   "source": [
    "missing_df = pd.merge(customer_df, customer_product_df, on=\"customer_id\", how=\"outer\")\n",
    "missing_df"
   ]
  },
  {
   "cell_type": "code",
   "execution_count": 6,
   "metadata": {},
   "outputs": [
    {
     "data": {
      "text/html": [
       "<div>\n",
       "<style scoped>\n",
       "    .dataframe tbody tr th:only-of-type {\n",
       "        vertical-align: middle;\n",
       "    }\n",
       "\n",
       "    .dataframe tbody tr th {\n",
       "        vertical-align: top;\n",
       "    }\n",
       "\n",
       "    .dataframe thead th {\n",
       "        text-align: right;\n",
       "    }\n",
       "</style>\n",
       "<table border=\"1\" class=\"dataframe\">\n",
       "  <thead>\n",
       "    <tr style=\"text-align: right;\">\n",
       "      <th></th>\n",
       "      <th>article_id</th>\n",
       "      <th>similar_articles</th>\n",
       "    </tr>\n",
       "  </thead>\n",
       "  <tbody>\n",
       "    <tr>\n",
       "      <th>0</th>\n",
       "      <td>108775015</td>\n",
       "      <td>218354001,372008001,494030013,538699001,565379...</td>\n",
       "    </tr>\n",
       "    <tr>\n",
       "      <th>1</th>\n",
       "      <td>108775044</td>\n",
       "      <td>218354021,355307042,372008010,494030010,494030...</td>\n",
       "    </tr>\n",
       "  </tbody>\n",
       "</table>\n",
       "</div>"
      ],
      "text/plain": [
       "   article_id                                   similar_articles\n",
       "0   108775015  218354001,372008001,494030013,538699001,565379...\n",
       "1   108775044  218354021,355307042,372008010,494030010,494030..."
      ]
     },
     "execution_count": 6,
     "metadata": {},
     "output_type": "execute_result"
    }
   ],
   "source": [
    "article_similarity_df = pd.read_csv(path+\"article-content-similarity.csv\", usecols=['article_id','similar_articles'])\n",
    "article_similarity_df.head(2)"
   ]
  },
  {
   "cell_type": "code",
   "execution_count": 7,
   "metadata": {},
   "outputs": [
    {
     "data": {
      "text/html": [
       "<div>\n",
       "<style scoped>\n",
       "    .dataframe tbody tr th:only-of-type {\n",
       "        vertical-align: middle;\n",
       "    }\n",
       "\n",
       "    .dataframe tbody tr th {\n",
       "        vertical-align: top;\n",
       "    }\n",
       "\n",
       "    .dataframe thead th {\n",
       "        text-align: right;\n",
       "    }\n",
       "</style>\n",
       "<table border=\"1\" class=\"dataframe\">\n",
       "  <thead>\n",
       "    <tr style=\"text-align: right;\">\n",
       "      <th></th>\n",
       "      <th>customer_id</th>\n",
       "      <th>similar_customers</th>\n",
       "    </tr>\n",
       "  </thead>\n",
       "  <tbody>\n",
       "    <tr>\n",
       "      <th>0</th>\n",
       "      <td>0006d1fc72f81261e70e74249ab2c348e21a093ba40f2a...</td>\n",
       "      <td>d523f088074aeb6acffbdbb4cd5d34c80c3f5bdf5c5acd...</td>\n",
       "    </tr>\n",
       "    <tr>\n",
       "      <th>1</th>\n",
       "      <td>0008d644deb96bdc0ca262f161cf6d5e9a4e619bb75faa...</td>\n",
       "      <td>cdf9e4c4ef02a13302df5bab58ecc0f9d0ccedb6f0e38d...</td>\n",
       "    </tr>\n",
       "  </tbody>\n",
       "</table>\n",
       "</div>"
      ],
      "text/plain": [
       "                                         customer_id  \\\n",
       "0  0006d1fc72f81261e70e74249ab2c348e21a093ba40f2a...   \n",
       "1  0008d644deb96bdc0ca262f161cf6d5e9a4e619bb75faa...   \n",
       "\n",
       "                                   similar_customers  \n",
       "0  d523f088074aeb6acffbdbb4cd5d34c80c3f5bdf5c5acd...  \n",
       "1  cdf9e4c4ef02a13302df5bab58ecc0f9d0ccedb6f0e38d...  "
      ]
     },
     "execution_count": 7,
     "metadata": {},
     "output_type": "execute_result"
    }
   ],
   "source": [
    "customers_similarity_df = pd.read_csv(path+\"customer-similarity.csv\", skiprows=1, names=['customer_id', 'similar_customers'])\n",
    "customers_similarity_df.head(2)\n"
   ]
  },
  {
   "cell_type": "code",
   "execution_count": 8,
   "metadata": {},
   "outputs": [
    {
     "data": {
      "text/plain": [
       "'712295001,407354009,176209040,790820004,477163001,497642004,504667001,536720001'"
      ]
     },
     "execution_count": 8,
     "metadata": {},
     "output_type": "execute_result"
    }
   ],
   "source": [
    "def fn_similar_articles(article_id):\n",
    "    lst =  article_similarity_df[article_similarity_df['article_id'] == article_id]['similar_articles'].tolist()\n",
    "    s = ''\n",
    "    if lst:\n",
    "        s = lst[0]\n",
    "    return s\n",
    "\n",
    "fn_similar_articles(176209023)"
   ]
  },
  {
   "cell_type": "code",
   "execution_count": 9,
   "metadata": {},
   "outputs": [],
   "source": [
    "def fn_similar_customers(customerid):\n",
    "    lst =  customers_similarity_df[customers_similarity_df['customer_id'] == customerid]['similar_customers'].tolist()\n",
    "    s = ''\n",
    "    if lst:\n",
    "        s = lst[0]\n",
    "    return s\n"
   ]
  },
  {
   "cell_type": "code",
   "execution_count": 10,
   "metadata": {},
   "outputs": [],
   "source": [
    "def fn_top_puchases(customerid):\n",
    "    lst = customer_product_df[customer_product_df['customer_id'] == customerid].nlargest(3, 'count')['article_id'].tolist()\n",
    "    return \",\".join(str(x) for x in lst)\n"
   ]
  },
  {
   "cell_type": "code",
   "execution_count": 11,
   "metadata": {},
   "outputs": [],
   "source": [
    "def predict_by_customers(customerid):\n",
    "    articles_space_seperated = ''\n",
    "    try:\n",
    "        similar_customers =  customers_similarity_df[customers_similarity_df['customer_id'] == customerid]['similar_customers'].tolist()\n",
    "        similar_customers_list = similar_customers[0].split(\",\")\n",
    "        articles = []\n",
    "        for customerid2 in similar_customers_list:\n",
    "            t = fn_top_puchases(customerid2).split(\",\")\n",
    "            articles.extend(t)\n",
    "        articles_space_seperated = \" \".join(str(x) for x in articles[0:12])\n",
    "    except:\n",
    "        print(\"Errored - \", customerid)\n",
    "    return articles_space_seperated\n"
   ]
  },
  {
   "cell_type": "code",
   "execution_count": 12,
   "metadata": {},
   "outputs": [],
   "source": [
    "def predict_by_purchase_history(customerid):\n",
    "    articles_space_seperated = ''\n",
    "    try:\n",
    "        purchased_articles_list = fn_top_puchases(customerid).split(\",\")\n",
    "        articles = []\n",
    "        for item in purchased_articles_list:\n",
    "            similar_articles =  fn_similar_articles(176209023)\n",
    "            articles.extend(similar_articles.split(\",\"))\n",
    "        articles_space_seperated = \" \".join(str(x) for x in articles[0:12])\n",
    "    except:\n",
    "        print(\"Errored - \", customerid)\n",
    "    return articles_space_seperated\n",
    "                  "
   ]
  },
  {
   "cell_type": "code",
   "execution_count": 13,
   "metadata": {},
   "outputs": [],
   "source": [
    "k = 1500\n",
    "arr = np.array_split(customer_df, k)"
   ]
  },
  {
   "cell_type": "code",
   "execution_count": null,
   "metadata": {},
   "outputs": [
    {
     "name": "stdout",
     "output_type": "stream",
     "text": [
      "Errored -  0000423b00ade91418cceaf3b26c6af3dd342b51fd051eec9c12fb36984420fa\n",
      "Errored -  00058ecf091cea1bba9d800cabac6ed1ae284202cdab68bec5c8429eb3271c0c\n",
      "Errored -  000df4d2084d142416b8165bdd249bab8fea2393447aed8df063eb3a68b17b14\n"
     ]
    }
   ],
   "source": [
    "for i in range(k):\n",
    "    chunk = pd.DataFrame(arr[i])\n",
    "    chunk['predictions_by_customer'] = chunk['customer_id'].apply(lambda x: predict_by_customers(x))    \n",
    "    chunk['predictions_by_purchase_history'] = chunk['customer_id'].apply(lambda x: predict_by_purchase_history(x))\n",
    "    chunk.to_csv(path+\"subfiles/intermediate\" + str(i) + \".csv\")"
   ]
  },
  {
   "cell_type": "code",
   "execution_count": null,
   "metadata": {},
   "outputs": [],
   "source": [
    "#customer_df['predictions_by_customer'] = customer_df['customer_id'].apply(lambda x: predict_by_customers(x))\n",
    "#customer_df"
   ]
  },
  {
   "cell_type": "code",
   "execution_count": null,
   "metadata": {},
   "outputs": [],
   "source": [
    "#customer_df['predictions_by_purchase_history'] = customer_df['customer_id'].apply(lambda x: predict_by_purchase_history(x))\n",
    "#customer_df\n"
   ]
  },
  {
   "cell_type": "code",
   "execution_count": null,
   "metadata": {},
   "outputs": [],
   "source": [
    "customer_df.to_csv(path+\"intermediate1.csv\")"
   ]
  }
 ],
 "metadata": {
  "kernelspec": {
   "display_name": "Python 3",
   "language": "python",
   "name": "python3"
  },
  "language_info": {
   "codemirror_mode": {
    "name": "ipython",
    "version": 3
   },
   "file_extension": ".py",
   "mimetype": "text/x-python",
   "name": "python",
   "nbconvert_exporter": "python",
   "pygments_lexer": "ipython3",
   "version": "3.8.5"
  }
 },
 "nbformat": 4,
 "nbformat_minor": 4
}
