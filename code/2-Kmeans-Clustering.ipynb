{
 "cells": [
  {
   "cell_type": "code",
   "execution_count": 1,
   "metadata": {},
   "outputs": [],
   "source": [
    "import numpy as np\n",
    "import pandas as pd\n",
    "import dask.dataframe as dd\n",
    "from scipy import stats\n",
    "from matplotlib.pyplot import figure\n",
    "\n",
    "\n",
    "import matplotlib.pyplot as plt\n",
    "import matplotlib.patches as mpatches\n",
    "import seaborn as sns\n",
    "import warnings\n",
    "warnings.filterwarnings(\"ignore\")\n",
    "%matplotlib inline  \n",
    "\n",
    "\n",
    "from sklearn.feature_extraction.text import CountVectorizer\n",
    "from sklearn.metrics.pairwise import cosine_similarity\n"
   ]
  },
  {
   "cell_type": "code",
   "execution_count": 2,
   "metadata": {},
   "outputs": [],
   "source": [
    "path = \"../files/\"\n"
   ]
  },
  {
   "cell_type": "markdown",
   "metadata": {},
   "source": [
    "### Load the Dataset for Model Building"
   ]
  },
  {
   "cell_type": "code",
   "execution_count": 3,
   "metadata": {},
   "outputs": [
    {
     "data": {
      "text/plain": [
       "(31788324, 39)"
      ]
     },
     "execution_count": 3,
     "metadata": {},
     "output_type": "execute_result"
    }
   ],
   "source": [
    "df = pd.read_csv(path + \"merged.csv\")\n",
    "df.shape"
   ]
  },
  {
   "cell_type": "markdown",
   "metadata": {},
   "source": [
    "### Let's Cluster the Users in to different Bins\n"
   ]
  },
  {
   "cell_type": "code",
   "execution_count": 4,
   "metadata": {},
   "outputs": [
    {
     "data": {
      "text/html": [
       "<div>\n",
       "<style scoped>\n",
       "    .dataframe tbody tr th:only-of-type {\n",
       "        vertical-align: middle;\n",
       "    }\n",
       "\n",
       "    .dataframe tbody tr th {\n",
       "        vertical-align: top;\n",
       "    }\n",
       "\n",
       "    .dataframe thead th {\n",
       "        text-align: right;\n",
       "    }\n",
       "</style>\n",
       "<table border=\"1\" class=\"dataframe\">\n",
       "  <thead>\n",
       "    <tr style=\"text-align: right;\">\n",
       "      <th></th>\n",
       "      <th>Unnamed: 0</th>\n",
       "      <th>customer_id</th>\n",
       "      <th>article_id</th>\n",
       "      <th>price</th>\n",
       "      <th>sales_channel_id</th>\n",
       "      <th>day</th>\n",
       "      <th>month</th>\n",
       "      <th>year</th>\n",
       "      <th>dayofweek</th>\n",
       "      <th>row_num</th>\n",
       "      <th>...</th>\n",
       "      <th>department_name</th>\n",
       "      <th>index_code</th>\n",
       "      <th>index_name</th>\n",
       "      <th>index_group_no</th>\n",
       "      <th>index_group_name</th>\n",
       "      <th>section_no</th>\n",
       "      <th>section_name</th>\n",
       "      <th>garment_group_no</th>\n",
       "      <th>garment_group_name</th>\n",
       "      <th>detail_desc</th>\n",
       "    </tr>\n",
       "  </thead>\n",
       "  <tbody>\n",
       "    <tr>\n",
       "      <th>0</th>\n",
       "      <td>0</td>\n",
       "      <td>000058a12d5b43e67d225668fa1f8d618c13dc232df0ca...</td>\n",
       "      <td>663713001</td>\n",
       "      <td>0.050831</td>\n",
       "      <td>2</td>\n",
       "      <td>20</td>\n",
       "      <td>9</td>\n",
       "      <td>2018</td>\n",
       "      <td>3</td>\n",
       "      <td>0</td>\n",
       "      <td>...</td>\n",
       "      <td>Expressive Lingerie</td>\n",
       "      <td>B</td>\n",
       "      <td>Lingeries/Tights</td>\n",
       "      <td>1</td>\n",
       "      <td>Ladieswear</td>\n",
       "      <td>61</td>\n",
       "      <td>Womens Lingerie</td>\n",
       "      <td>1017</td>\n",
       "      <td>Under-, Nightwear</td>\n",
       "      <td>Lace push-up body with underwired, moulded, pa...</td>\n",
       "    </tr>\n",
       "  </tbody>\n",
       "</table>\n",
       "<p>1 rows × 39 columns</p>\n",
       "</div>"
      ],
      "text/plain": [
       "   Unnamed: 0                                        customer_id  article_id  \\\n",
       "0           0  000058a12d5b43e67d225668fa1f8d618c13dc232df0ca...   663713001   \n",
       "\n",
       "      price  sales_channel_id  day  month  year  dayofweek  row_num  ...  \\\n",
       "0  0.050831                 2   20      9  2018          3        0  ...   \n",
       "\n",
       "       department_name index_code        index_name  index_group_no  \\\n",
       "0  Expressive Lingerie          B  Lingeries/Tights               1   \n",
       "\n",
       "  index_group_name  section_no     section_name  garment_group_no  \\\n",
       "0       Ladieswear          61  Womens Lingerie              1017   \n",
       "\n",
       "  garment_group_name                                        detail_desc  \n",
       "0  Under-, Nightwear  Lace push-up body with underwired, moulded, pa...  \n",
       "\n",
       "[1 rows x 39 columns]"
      ]
     },
     "execution_count": 4,
     "metadata": {},
     "output_type": "execute_result"
    }
   ],
   "source": [
    "df.head(1)"
   ]
  },
  {
   "cell_type": "code",
   "execution_count": 5,
   "metadata": {},
   "outputs": [
    {
     "data": {
      "text/html": [
       "<div>\n",
       "<style scoped>\n",
       "    .dataframe tbody tr th:only-of-type {\n",
       "        vertical-align: middle;\n",
       "    }\n",
       "\n",
       "    .dataframe tbody tr th {\n",
       "        vertical-align: top;\n",
       "    }\n",
       "\n",
       "    .dataframe thead th {\n",
       "        text-align: right;\n",
       "    }\n",
       "</style>\n",
       "<table border=\"1\" class=\"dataframe\">\n",
       "  <thead>\n",
       "    <tr style=\"text-align: right;\">\n",
       "      <th></th>\n",
       "      <th>unique_items</th>\n",
       "      <th>unique_departments</th>\n",
       "      <th>preferred_sales_channel</th>\n",
       "      <th>preferred_week</th>\n",
       "      <th>age</th>\n",
       "      <th>monetary_value</th>\n",
       "    </tr>\n",
       "    <tr>\n",
       "      <th>customer_id</th>\n",
       "      <th></th>\n",
       "      <th></th>\n",
       "      <th></th>\n",
       "      <th></th>\n",
       "      <th></th>\n",
       "      <th></th>\n",
       "    </tr>\n",
       "  </thead>\n",
       "  <tbody>\n",
       "    <tr>\n",
       "      <th>00000dbacae5abe5e23885899a1fa44253a17956c6d1c3d25f88aa139fdfc657</th>\n",
       "      <td>19</td>\n",
       "      <td>15</td>\n",
       "      <td>2</td>\n",
       "      <td>5</td>\n",
       "      <td>49.0</td>\n",
       "      <td>0.648983</td>\n",
       "    </tr>\n",
       "    <tr>\n",
       "      <th>0000423b00ade91418cceaf3b26c6af3dd342b51fd051eec9c12fb36984420fa</th>\n",
       "      <td>64</td>\n",
       "      <td>32</td>\n",
       "      <td>2</td>\n",
       "      <td>1</td>\n",
       "      <td>25.0</td>\n",
       "      <td>2.601932</td>\n",
       "    </tr>\n",
       "    <tr>\n",
       "      <th>000058a12d5b43e67d225668fa1f8d618c13dc232df0cad8ffe7ad4a1091e318</th>\n",
       "      <td>14</td>\n",
       "      <td>11</td>\n",
       "      <td>2</td>\n",
       "      <td>5</td>\n",
       "      <td>24.0</td>\n",
       "      <td>0.704780</td>\n",
       "    </tr>\n",
       "    <tr>\n",
       "      <th>00005ca1c9ed5f5146b52ac8639a40ca9d57aeff4d1bd2c5feb1ca5dff07c43e</th>\n",
       "      <td>2</td>\n",
       "      <td>1</td>\n",
       "      <td>2</td>\n",
       "      <td>6</td>\n",
       "      <td>54.0</td>\n",
       "      <td>0.060983</td>\n",
       "    </tr>\n",
       "    <tr>\n",
       "      <th>00006413d8573cd20ed7128e53b7b13819fe5cfc2d801fe7fc0f26dd8d65a85a</th>\n",
       "      <td>12</td>\n",
       "      <td>10</td>\n",
       "      <td>2</td>\n",
       "      <td>2</td>\n",
       "      <td>52.0</td>\n",
       "      <td>0.469695</td>\n",
       "    </tr>\n",
       "    <tr>\n",
       "      <th>...</th>\n",
       "      <td>...</td>\n",
       "      <td>...</td>\n",
       "      <td>...</td>\n",
       "      <td>...</td>\n",
       "      <td>...</td>\n",
       "      <td>...</td>\n",
       "    </tr>\n",
       "    <tr>\n",
       "      <th>ffffbbf78b6eaac697a8a5dfbfd2bfa8113ee5b403e4747568cac33e8c541831</th>\n",
       "      <td>42</td>\n",
       "      <td>14</td>\n",
       "      <td>2</td>\n",
       "      <td>2</td>\n",
       "      <td>24.0</td>\n",
       "      <td>1.292356</td>\n",
       "    </tr>\n",
       "    <tr>\n",
       "      <th>ffffcd5046a6143d29a04fb8c424ce494a76e5cdf4fab53481233731b5c4f8b7</th>\n",
       "      <td>79</td>\n",
       "      <td>32</td>\n",
       "      <td>2</td>\n",
       "      <td>0</td>\n",
       "      <td>21.0</td>\n",
       "      <td>1.807322</td>\n",
       "    </tr>\n",
       "    <tr>\n",
       "      <th>ffffcf35913a0bee60e8741cb2b4e78b8a98ee5ff2e6a1778d0116cffd259264</th>\n",
       "      <td>40</td>\n",
       "      <td>29</td>\n",
       "      <td>2</td>\n",
       "      <td>3</td>\n",
       "      <td>21.0</td>\n",
       "      <td>0.788932</td>\n",
       "    </tr>\n",
       "    <tr>\n",
       "      <th>ffffd7744cebcf3aca44ae7049d2a94b87074c3d4ffe38b2236865d949d4df6a</th>\n",
       "      <td>6</td>\n",
       "      <td>5</td>\n",
       "      <td>2</td>\n",
       "      <td>6</td>\n",
       "      <td>18.0</td>\n",
       "      <td>0.209203</td>\n",
       "    </tr>\n",
       "    <tr>\n",
       "      <th>ffffd9ac14e89946416d80e791d064701994755c3ab686a1eaf3458c36f52241</th>\n",
       "      <td>1</td>\n",
       "      <td>1</td>\n",
       "      <td>2</td>\n",
       "      <td>2</td>\n",
       "      <td>65.0</td>\n",
       "      <td>0.084729</td>\n",
       "    </tr>\n",
       "  </tbody>\n",
       "</table>\n",
       "<p>1362281 rows × 6 columns</p>\n",
       "</div>"
      ],
      "text/plain": [
       "                                                    unique_items  \\\n",
       "customer_id                                                        \n",
       "00000dbacae5abe5e23885899a1fa44253a17956c6d1c3d...            19   \n",
       "0000423b00ade91418cceaf3b26c6af3dd342b51fd051ee...            64   \n",
       "000058a12d5b43e67d225668fa1f8d618c13dc232df0cad...            14   \n",
       "00005ca1c9ed5f5146b52ac8639a40ca9d57aeff4d1bd2c...             2   \n",
       "00006413d8573cd20ed7128e53b7b13819fe5cfc2d801fe...            12   \n",
       "...                                                          ...   \n",
       "ffffbbf78b6eaac697a8a5dfbfd2bfa8113ee5b403e4747...            42   \n",
       "ffffcd5046a6143d29a04fb8c424ce494a76e5cdf4fab53...            79   \n",
       "ffffcf35913a0bee60e8741cb2b4e78b8a98ee5ff2e6a17...            40   \n",
       "ffffd7744cebcf3aca44ae7049d2a94b87074c3d4ffe38b...             6   \n",
       "ffffd9ac14e89946416d80e791d064701994755c3ab686a...             1   \n",
       "\n",
       "                                                    unique_departments  \\\n",
       "customer_id                                                              \n",
       "00000dbacae5abe5e23885899a1fa44253a17956c6d1c3d...                  15   \n",
       "0000423b00ade91418cceaf3b26c6af3dd342b51fd051ee...                  32   \n",
       "000058a12d5b43e67d225668fa1f8d618c13dc232df0cad...                  11   \n",
       "00005ca1c9ed5f5146b52ac8639a40ca9d57aeff4d1bd2c...                   1   \n",
       "00006413d8573cd20ed7128e53b7b13819fe5cfc2d801fe...                  10   \n",
       "...                                                                ...   \n",
       "ffffbbf78b6eaac697a8a5dfbfd2bfa8113ee5b403e4747...                  14   \n",
       "ffffcd5046a6143d29a04fb8c424ce494a76e5cdf4fab53...                  32   \n",
       "ffffcf35913a0bee60e8741cb2b4e78b8a98ee5ff2e6a17...                  29   \n",
       "ffffd7744cebcf3aca44ae7049d2a94b87074c3d4ffe38b...                   5   \n",
       "ffffd9ac14e89946416d80e791d064701994755c3ab686a...                   1   \n",
       "\n",
       "                                                    preferred_sales_channel  \\\n",
       "customer_id                                                                   \n",
       "00000dbacae5abe5e23885899a1fa44253a17956c6d1c3d...                        2   \n",
       "0000423b00ade91418cceaf3b26c6af3dd342b51fd051ee...                        2   \n",
       "000058a12d5b43e67d225668fa1f8d618c13dc232df0cad...                        2   \n",
       "00005ca1c9ed5f5146b52ac8639a40ca9d57aeff4d1bd2c...                        2   \n",
       "00006413d8573cd20ed7128e53b7b13819fe5cfc2d801fe...                        2   \n",
       "...                                                                     ...   \n",
       "ffffbbf78b6eaac697a8a5dfbfd2bfa8113ee5b403e4747...                        2   \n",
       "ffffcd5046a6143d29a04fb8c424ce494a76e5cdf4fab53...                        2   \n",
       "ffffcf35913a0bee60e8741cb2b4e78b8a98ee5ff2e6a17...                        2   \n",
       "ffffd7744cebcf3aca44ae7049d2a94b87074c3d4ffe38b...                        2   \n",
       "ffffd9ac14e89946416d80e791d064701994755c3ab686a...                        2   \n",
       "\n",
       "                                                    preferred_week   age  \\\n",
       "customer_id                                                                \n",
       "00000dbacae5abe5e23885899a1fa44253a17956c6d1c3d...               5  49.0   \n",
       "0000423b00ade91418cceaf3b26c6af3dd342b51fd051ee...               1  25.0   \n",
       "000058a12d5b43e67d225668fa1f8d618c13dc232df0cad...               5  24.0   \n",
       "00005ca1c9ed5f5146b52ac8639a40ca9d57aeff4d1bd2c...               6  54.0   \n",
       "00006413d8573cd20ed7128e53b7b13819fe5cfc2d801fe...               2  52.0   \n",
       "...                                                            ...   ...   \n",
       "ffffbbf78b6eaac697a8a5dfbfd2bfa8113ee5b403e4747...               2  24.0   \n",
       "ffffcd5046a6143d29a04fb8c424ce494a76e5cdf4fab53...               0  21.0   \n",
       "ffffcf35913a0bee60e8741cb2b4e78b8a98ee5ff2e6a17...               3  21.0   \n",
       "ffffd7744cebcf3aca44ae7049d2a94b87074c3d4ffe38b...               6  18.0   \n",
       "ffffd9ac14e89946416d80e791d064701994755c3ab686a...               2  65.0   \n",
       "\n",
       "                                                    monetary_value  \n",
       "customer_id                                                         \n",
       "00000dbacae5abe5e23885899a1fa44253a17956c6d1c3d...        0.648983  \n",
       "0000423b00ade91418cceaf3b26c6af3dd342b51fd051ee...        2.601932  \n",
       "000058a12d5b43e67d225668fa1f8d618c13dc232df0cad...        0.704780  \n",
       "00005ca1c9ed5f5146b52ac8639a40ca9d57aeff4d1bd2c...        0.060983  \n",
       "00006413d8573cd20ed7128e53b7b13819fe5cfc2d801fe...        0.469695  \n",
       "...                                                            ...  \n",
       "ffffbbf78b6eaac697a8a5dfbfd2bfa8113ee5b403e4747...        1.292356  \n",
       "ffffcd5046a6143d29a04fb8c424ce494a76e5cdf4fab53...        1.807322  \n",
       "ffffcf35913a0bee60e8741cb2b4e78b8a98ee5ff2e6a17...        0.788932  \n",
       "ffffd7744cebcf3aca44ae7049d2a94b87074c3d4ffe38b...        0.209203  \n",
       "ffffd9ac14e89946416d80e791d064701994755c3ab686a...        0.084729  \n",
       "\n",
       "[1362281 rows x 6 columns]"
      ]
     },
     "execution_count": 5,
     "metadata": {},
     "output_type": "execute_result"
    }
   ],
   "source": [
    "customer_intelligence_df = df.groupby(\"customer_id\").agg(\n",
    "    unique_items=('article_id', lambda x: len(set(x))), \n",
    "    unique_departments=('department_no', lambda x: len(set(x))), \n",
    "    preferred_sales_channel=('sales_channel_id', lambda x: stats.mode(x)[0][0]),\n",
    "    preferred_week=('dayofweek', lambda x: stats.mode(x)[0][0]),\n",
    "    age=('age',np.max),\n",
    "    monetary_value=('price', np.sum))\n",
    "customer_intelligence_df.to_csv(path + 'customer_intelligence.csv')\n",
    "customer_intelligence_df"
   ]
  },
  {
   "cell_type": "markdown",
   "metadata": {},
   "source": [
    "### Let's do some Scatter Plots before clustering"
   ]
  },
  {
   "cell_type": "code",
   "execution_count": 6,
   "metadata": {},
   "outputs": [],
   "source": [
    "sample_df = customer_intelligence_df.head(100)"
   ]
  },
  {
   "cell_type": "markdown",
   "metadata": {},
   "source": [
    "#### Let's take a sample dataset and do some plots to understand the data relationships before we do clustering Data represented in the plot is a small sample for the orginal data set and just for understanding purposes. Scatter plot with 31 million points would look aesthetic."
   ]
  },
  {
   "cell_type": "code",
   "execution_count": 7,
   "metadata": {},
   "outputs": [
    {
     "data": {
      "text/plain": [
       "<Figure size 432x288 with 0 Axes>"
      ]
     },
     "metadata": {},
     "output_type": "display_data"
    },
    {
     "data": {
      "image/png": "[encoded data removed]",
      "text/plain": [
       "<Figure size 1080x720 with 4 Axes>"
      ]
     },
     "metadata": {
      "needs_background": "light"
     },
     "output_type": "display_data"
    }
   ],
   "source": [
    "f = plt.figure()   \n",
    "f, axes = plt.subplots(nrows = 2, ncols = 2, sharex=False, sharey = False)\n",
    "f.set_size_inches(15,10)\n",
    "\n",
    "one = axes[0][0].scatter(sample_df.age,sample_df['preferred_week'], marker = \"x\")\n",
    "axes[0][0].set_title(\"Age Vs Preferred Week\")\n",
    "\n",
    "two = axes[0][1].scatter(sample_df.age,sample_df['monetary_value'], marker = \"o\")\n",
    "axes[0][1].set_title(\"Age Vs Monetary Value\")\n",
    "\n",
    "axes[1][0].bar(sample_df.unique_departments, sample_df.monetary_value)\n",
    "axes[1][0].set_title(\"Monetary Value of a MultiDept Shopper\")\n",
    "\n",
    "axes[1][1].bar(sample_df.preferred_sales_channel, sample_df.monetary_value)\n",
    "axes[1][1].set_xticks([1,2])\n",
    "axes[1][1].set_title(\"Sales Channel Effectiveness\")\n",
    "\n",
    "plt.show()\n"
   ]
  },
  {
   "cell_type": "markdown",
   "metadata": {},
   "source": [
    "### Getting Started with K means clustering"
   ]
  },
  {
   "cell_type": "code",
   "execution_count": 8,
   "metadata": {},
   "outputs": [],
   "source": [
    "from sklearn.cluster import KMeans\n",
    "import pandas as pd\n",
    "from sklearn.preprocessing import MinMaxScaler\n"
   ]
  },
  {
   "cell_type": "markdown",
   "metadata": {},
   "source": [
    "### Assuming 3 clusters for simplicity sake to begin with"
   ]
  },
  {
   "cell_type": "code",
   "execution_count": 9,
   "metadata": {},
   "outputs": [
    {
     "data": {
      "text/plain": [
       "array([2, 0, 0, ..., 0, 0, 1], dtype=int32)"
      ]
     },
     "execution_count": 9,
     "metadata": {},
     "output_type": "execute_result"
    }
   ],
   "source": [
    "km = KMeans(n_clusters=3)\n",
    "y_predicted = km.fit_predict(customer_intelligence_df[['age','monetary_value']])\n",
    "y_predicted"
   ]
  },
  {
   "cell_type": "code",
   "execution_count": 10,
   "metadata": {},
   "outputs": [
    {
     "data": {
      "text/plain": [
       "0    723209\n",
       "2    323213\n",
       "1    315859\n",
       "Name: cluster, dtype: int64"
      ]
     },
     "execution_count": 10,
     "metadata": {},
     "output_type": "execute_result"
    }
   ],
   "source": [
    "customer_intelligence_df['cluster']=y_predicted\n",
    "customer_intelligence_df['cluster'].value_counts()\n"
   ]
  },
  {
   "cell_type": "code",
   "execution_count": 11,
   "metadata": {},
   "outputs": [
    {
     "data": {
      "text/plain": [
       "array([[24.89735471,  0.65885907],\n",
       "       [57.22325468,  0.61546735],\n",
       "       [41.7710765 ,  0.66133559]])"
      ]
     },
     "execution_count": 11,
     "metadata": {},
     "output_type": "execute_result"
    }
   ],
   "source": [
    "km.cluster_centers_"
   ]
  },
  {
   "cell_type": "markdown",
   "metadata": {},
   "source": [
    "### Now the question Is 3 clusters the right choice?<br/>\n",
    "Let's try experimenting with more clustering before coming to a conclusion"
   ]
  },
  {
   "cell_type": "code",
   "execution_count": 12,
   "metadata": {},
   "outputs": [],
   "source": [
    "kmeans_inert = []\n",
    "cluster_range = range(1,10)\n",
    "for k in cluster_range:\n",
    "    km = KMeans(n_clusters=k)\n",
    "    km.fit(customer_intelligence_df[['age','monetary_value']])\n",
    "    kmeans_inert.append(km.inertia_)\n"
   ]
  },
  {
   "cell_type": "code",
   "execution_count": 13,
   "metadata": {},
   "outputs": [
    {
     "data": {
      "text/plain": [
       "[<matplotlib.lines.Line2D at 0x7faf150f5fd0>]"
      ]
     },
     "execution_count": 13,
     "metadata": {},
     "output_type": "execute_result"
    },
    {
     "data": {
      "image/png": "[encoded data removed]",
      "text/plain": [
       "<Figure size 432x288 with 1 Axes>"
      ]
     },
     "metadata": {
      "needs_background": "light"
     },
     "output_type": "display_data"
    }
   ],
   "source": [
    "plt.xlabel('K')\n",
    "plt.ylabel('Sum of squared error')\n",
    "plt.plot(cluster_range,kmeans_inert)"
   ]
  },
  {
   "cell_type": "code",
   "execution_count": 14,
   "metadata": {},
   "outputs": [
    {
     "data": {
      "text/plain": [
       "0    554735\n",
       "1    346773\n",
       "2    321845\n",
       "3    138928\n",
       "Name: cluster, dtype: int64"
      ]
     },
     "execution_count": 14,
     "metadata": {},
     "output_type": "execute_result"
    }
   ],
   "source": [
    "km = KMeans(n_clusters=4)\n",
    "# Cluster Predictions Based on new number of clusters\n",
    "y_predicted = km.fit_predict(customer_intelligence_df[['age','monetary_value']])\n",
    "customer_intelligence_df['cluster']=y_predicted\n",
    "customer_intelligence_df['cluster'].value_counts()"
   ]
  },
  {
   "cell_type": "code",
   "execution_count": 15,
   "metadata": {},
   "outputs": [
    {
     "data": {
      "text/plain": [
       "<matplotlib.legend.Legend at 0x7faf18bb3460>"
      ]
     },
     "execution_count": 15,
     "metadata": {},
     "output_type": "execute_result"
    },
    {
     "data": {
      "image/png": "[encoded data removed]",
      "text/plain": [
       "<Figure size 432x288 with 1 Axes>"
      ]
     },
     "metadata": {
      "needs_background": "light"
     },
     "output_type": "display_data"
    }
   ],
   "source": [
    "df1 = customer_intelligence_df[customer_intelligence_df.cluster==0]\n",
    "df2 = customer_intelligence_df[customer_intelligence_df.cluster==1]\n",
    "df3 = customer_intelligence_df[customer_intelligence_df.cluster==2]\n",
    "df4 = customer_intelligence_df[customer_intelligence_df.cluster==3]\n",
    "plt.scatter(df1.age,df1.monetary_value,color='green')\n",
    "plt.scatter(df2.age,df2.monetary_value,color='red')\n",
    "plt.scatter(df3.age,df3.monetary_value,color='black')\n",
    "plt.scatter(df4.age,df4.monetary_value,color='blue')\n",
    "plt.scatter(km.cluster_centers_[:,0],km.cluster_centers_[:,1],color='purple',marker='*',label='centroid')\n",
    "plt.legend()\n"
   ]
  },
  {
   "cell_type": "markdown",
   "metadata": {},
   "source": [
    "### Persist the Customer Cluster Data to a csv file"
   ]
  },
  {
   "cell_type": "code",
   "execution_count": 16,
   "metadata": {},
   "outputs": [],
   "source": [
    "customer_intelligence_df.to_csv(path + 'customer_intelligence.csv')"
   ]
  },
  {
   "cell_type": "markdown",
   "metadata": {},
   "source": [
    "### Looks like number of optimum clusters based on the elbow graph is 4"
   ]
  }
 ],
 "metadata": {
  "kernelspec": {
   "display_name": "Python 3",
   "language": "python",
   "name": "python3"
  },
  "language_info": {
   "codemirror_mode": {
    "name": "ipython",
    "version": 3
   },
   "file_extension": ".py",
   "mimetype": "text/x-python",
   "name": "python",
   "nbconvert_exporter": "python",
   "pygments_lexer": "ipython3",
   "version": "3.8.5"
  }
 },
 "nbformat": 4,
 "nbformat_minor": 4
}
